{
 "cells": [
  {
   "metadata": {
    "ExecuteTime": {
     "end_time": "2025-03-11T04:02:09.764170Z",
     "start_time": "2025-03-11T04:02:09.744769Z"
    }
   },
   "cell_type": "code",
   "source": "!gdown 1JJjMiNieTz7xYs6UeVqd02M3DW4fnEfU",
   "id": "3ea2852bc001bcf1",
   "outputs": [
    {
     "name": "stderr",
     "output_type": "stream",
     "text": [
      "'gdown' is not recognized as an internal or external command,\n",
      "operable program or batch file.\n"
     ]
    }
   ],
   "execution_count": 1
  },
  {
   "metadata": {
    "collapsed": true,
    "ExecuteTime": {
     "end_time": "2025-03-11T03:14:10.692931Z",
     "start_time": "2025-03-11T03:14:09.496584Z"
    }
   },
   "cell_type": "code",
   "outputs": [
    {
     "data": {
      "text/plain": [
       "[('image_07088', 'dark blue little petals white green and yellow leaves'),\n",
       " ('image_06396',\n",
       "  'this flower is blue and white in color, with petals that are wavy and ruffled.'),\n",
       " ('image_05847', 'the petals of this flower are pink with a short stigma'),\n",
       " ('image_04581',\n",
       "  'a purple and red flower with rolled petals and light green sepal.'),\n",
       " ('image_03588', 'the petals of this flower are pink with a long stigma')]"
      ]
     },
     "execution_count": 56,
     "metadata": {},
     "output_type": "execute_result"
    }
   ],
   "execution_count": 56,
   "source": [
    "\n",
    "from preprocessing import FlowerDataset\n",
    "\n",
    "# Build path từ root\n",
    "IMAGE_DIR = \"../content/cvpr2016_flowers/images\"\n",
    "CAPTION_DIR = \"../content/cvpr2016_flowers/captions\"\n",
    "\n",
    "\n",
    "\n",
    "from load_captions import load_captions\n",
    "\n",
    "captions = load_captions(IMAGE_DIR, CAPTION_DIR)\n",
    "list(captions.items())[:5]"
   ],
   "id": "initial_id"
  },
  {
   "metadata": {
    "ExecuteTime": {
     "end_time": "2025-03-11T03:21:43.190124Z",
     "start_time": "2025-03-11T03:14:12.397980Z"
    }
   },
   "cell_type": "code",
   "source": [
    "from encode_captions import encode_captions\n",
    "encoded_caption = encode_captions(captions)\n",
    "print(encoded_caption[\"image_00001\"][\"embed\"].shape)\n",
    "\n"
   ],
   "id": "eb597cbb792faee1",
   "outputs": [
    {
     "name": "stdout",
     "output_type": "stream",
     "text": [
      "torch.Size([768])\n"
     ]
    }
   ],
   "execution_count": 57
  },
  {
   "metadata": {
    "ExecuteTime": {
     "end_time": "2025-03-10T15:32:38.222337Z",
     "start_time": "2025-03-10T15:32:38.199057Z"
    }
   },
   "cell_type": "code",
   "source": [
    "from transform import transform\n",
    "from preprocessing import FlowerDataset\n",
    "dataset = FlowerDataset(IMAGE_DIR, captions=encoded_caption, transform=transform)\n",
    "print(dataset[0][\"image\"].shape)\n",
    "print(dataset[0][\"text\"])"
   ],
   "id": "2618b6c3ed027128",
   "outputs": [
    {
     "name": "stdout",
     "output_type": "stream",
     "text": [
      "torch.Size([3, 128, 128])\n",
      "dark blue little petals white green and yellow leaves\n"
     ]
    }
   ],
   "execution_count": 32
  },
  {
   "metadata": {
    "ExecuteTime": {
     "end_time": "2025-03-11T03:12:25.086827Z",
     "start_time": "2025-03-11T03:12:24.939629Z"
    }
   },
   "cell_type": "code",
   "source": [
    "import torch\n",
    "from model import Generator\n",
    "\n",
    "generator = Generator(noise_size=100, feature_size=128, num_channels=3, embedding_size=768, reduced_dim_size=256)\n",
    "#test\n",
    "batch_size = 5\n",
    "# [batch_size, noise_size]\n",
    "noise = torch.randn(size=(batch_size, 100))\n",
    "print(noise.shape)\n",
    "# [batch_size, embedding_size]\n",
    "embedding_caption = dataset[0][\"embed\"].unsqueeze(0).repeat(batch_size, 1)\n",
    "print(embedding_caption.shape)\n",
    "output = generator(noise, embedding_caption)\n",
    "output.shape\n"
   ],
   "id": "8fee8b18fa1fd2be",
   "outputs": [
    {
     "name": "stdout",
     "output_type": "stream",
     "text": [
      "torch.Size([5, 100])\n",
      "torch.Size([5, 768])\n"
     ]
    },
    {
     "data": {
      "text/plain": [
       "torch.Size([5, 3, 16, 16])"
      ]
     },
     "execution_count": 50,
     "metadata": {},
     "output_type": "execute_result"
    }
   ],
   "execution_count": 50
  },
  {
   "metadata": {
    "ExecuteTime": {
     "end_time": "2025-03-11T03:13:56.719617Z",
     "start_time": "2025-03-11T03:13:56.667386Z"
    }
   },
   "cell_type": "code",
   "source": [
    "from model import Discriminator\n",
    "images = torch.rand(size=(batch_size, 3, 128, 128))\n",
    "discriminator = Discriminator(3, 128,768, 256)\n",
    "output = discriminator(embedding_caption)\n",
    "output.shape"
   ],
   "id": "bfe6ab99563df8db",
   "outputs": [
    {
     "ename": "ImportError",
     "evalue": "cannot import name 'Discriminator' from 'model' (/Users/nguyenhuynh/Documents/text-2-image/model.py)",
     "output_type": "error",
     "traceback": [
      "\u001B[31m---------------------------------------------------------------------------\u001B[39m",
      "\u001B[31mImportError\u001B[39m                               Traceback (most recent call last)",
      "\u001B[36mCell\u001B[39m\u001B[36m \u001B[39m\u001B[32mIn[55]\u001B[39m\u001B[32m, line 1\u001B[39m\n\u001B[32m----> \u001B[39m\u001B[32m1\u001B[39m \u001B[38;5;28;01mfrom\u001B[39;00m\u001B[38;5;250m \u001B[39m\u001B[34;01mmodel\u001B[39;00m\u001B[38;5;250m \u001B[39m\u001B[38;5;28;01mimport\u001B[39;00m Discriminator\n\u001B[32m      2\u001B[39m images = torch.rand(size=(batch_size, \u001B[32m3\u001B[39m, \u001B[32m128\u001B[39m, \u001B[32m128\u001B[39m))\n\u001B[32m      3\u001B[39m discriminator = Discriminator(\u001B[32m3\u001B[39m, \u001B[32m128\u001B[39m,\u001B[32m768\u001B[39m, \u001B[32m256\u001B[39m)\n",
      "\u001B[31mImportError\u001B[39m: cannot import name 'Discriminator' from 'model' (/Users/nguyenhuynh/Documents/text-2-image/model.py)"
     ]
    }
   ],
   "execution_count": 55
  }
 ],
 "metadata": {
  "kernelspec": {
   "display_name": "Python 3",
   "language": "python",
   "name": "python3"
  },
  "language_info": {
   "codemirror_mode": {
    "name": "ipython",
    "version": 2
   },
   "file_extension": ".py",
   "mimetype": "text/x-python",
   "name": "python",
   "nbconvert_exporter": "python",
   "pygments_lexer": "ipython2",
   "version": "2.7.6"
  }
 },
 "nbformat": 4,
 "nbformat_minor": 5
}
